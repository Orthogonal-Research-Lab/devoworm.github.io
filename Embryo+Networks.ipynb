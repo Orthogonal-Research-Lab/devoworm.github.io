{
 "cells": [
  {
   "cell_type": "markdown",
   "metadata": {},
   "source": [
    "MATLAB code for creating networks for a 3-D point cloud (with bounding box)."
   ]
  },
  {
   "cell_type": "markdown",
   "metadata": {},
   "source": [
    "// create bounding box\n",
    "\n",
    "    plot3(cube(:,1),cube(:,2),cube(:,3),'k');\n",
    "    hold on\n",
    "    \n",
    "// create an origin point (0,0,0)\n",
    "\n",
    "    scatter3(center(:,1),center(:,2),center(:,3),'filled','k');\n",
    "    hold on\n",
    "    \n",
    "// create points from different groups of data (as defined by colors)\n",
    "\n",
    "    scatter3(L(:,1),L(:,2),L(:,3),'filled','m');\n",
    "    hold on\n",
    "    scatter3(S(:,1),S(:,2),S(:,3),'filled','b');"
   ]
  },
  {
   "cell_type": "markdown",
   "metadata": {},
   "source": [
    "3-D plot of cell nuclei in the 128-cell embryo (with labels)."
   ]
  },
  {
   "cell_type": "markdown",
   "metadata": {},
   "source": [
    "![](http://devoworm.weebly.com/uploads/2/2/2/0/22209308/128-terminal-node-tree-network-with-labels-only_orig.png)"
   ]
  },
  {
   "cell_type": "markdown",
   "metadata": {},
   "source": [
    "MATLAB code for creating a point cloud and set of connections in both an undifferentiated and layered manner."
   ]
  },
  {
   "cell_type": "markdown",
   "metadata": {
    "collapsed": true
   },
   "source": [
    "// Code for networks in 3-D\n",
    "\n",
    "    A = [x,y,z for each cell];\n",
    "    B = [x,y,z distance between cells -- lines between points in A];\n",
    "    A(:,1) = A(:,1) - 70.9407;\n",
    "    B(:,1) = B(:,1) - 70.9407;\n",
    "    A(:,2) = A(:,2) - 85.7354;\n",
    "    B(:,2) = B(:,2) - 85.7354;\n",
    "    A(:,3) = A(:,3) - 5.5197;\n",
    "    B(:,3) = B(:,3) - 5.5197;\n",
    "    scatter3(A(:,1),A(:,2),A(:,3),'filled')\n",
    "    hold on\n",
    "    plot3(B(:,1),B(:,2),B(:,3));\n",
    "    hold on\n",
    "    c = {'text1', 'text2',...., 'textn'};\n",
    "    c = c';\n",
    "    C = cellstr(c);\n",
    "    dx = 0.1;\n",
    "    dy = 0.1;\n",
    "    dz = 0.1;\n",
    "    hold on\n",
    "    text(A(:,1)+dx,A(:,2)+dy,A(:,3)+dz,C)\n",
    "\n",
    "// Code for connections broken out and colored\n",
    "\n",
    "// Variable B broken out into L, M, N, and O (Cells at same level, one level // apart, two levels apart, three levels apart).\n",
    "\n",
    "    plot3(L(:,1),L(:,2),L(:,3),'k');\n",
    "    hold on\n",
    "    plot3(M(:,1),M(:,2),M(:,3),'b');\n",
    "    hold on\n",
    "    plot3(N(:,1),N(:,2),N(:,3),'g');\n",
    "    hold on\n",
    "    plot3(O(:,1),O(:,2),O(:,3),'r');"
   ]
  },
  {
   "cell_type": "markdown",
   "metadata": {},
   "source": [
    "3-D point cloud with arcs based on Euclidean pairwise distances between cell nuclei."
   ]
  },
  {
   "cell_type": "markdown",
   "metadata": {},
   "source": [
    "![](http://devoworm.weebly.com/uploads/2/2/2/0/22209308/3d-network-threshold-095_orig.png)"
   ]
  },
  {
   "cell_type": "markdown",
   "metadata": {},
   "source": [
    "3-D layered network (by lineage tree level) for a lineage subtree. Connectivity is by Euclidean distance."
   ]
  },
  {
   "cell_type": "markdown",
   "metadata": {},
   "source": [
    "![](http://devoworm.weebly.com/uploads/2/2/2/0/22209308/3d-network-by-tree-depth_orig.png)"
   ]
  }
 ],
 "metadata": {
  "anaconda-cloud": {},
  "kernelspec": {
   "display_name": "Python [conda root]",
   "language": "python",
   "name": "conda-root-py"
  },
  "language_info": {
   "codemirror_mode": {
    "name": "ipython",
    "version": 3
   },
   "file_extension": ".py",
   "mimetype": "text/x-python",
   "name": "python",
   "nbconvert_exporter": "python",
   "pygments_lexer": "ipython3",
   "version": "3.5.2"
  }
 },
 "nbformat": 4,
 "nbformat_minor": 1
}
