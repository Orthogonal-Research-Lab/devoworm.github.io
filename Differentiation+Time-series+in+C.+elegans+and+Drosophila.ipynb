{
 "cells": [
  {
   "cell_type": "markdown",
   "metadata": {},
   "source": [
    "## Dynamic Differentiation in the *C. elegans* Embryo"
   ]
  },
  {
   "cell_type": "markdown",
   "metadata": {},
   "source": [
    "This dataset demonstrates the emergence of terminally-differentiated cells in each cell type class from 200 to 300 minutes of embryogenesis. The 200 to 300 minute period is sampled at 5-minute intervals, while the 300 to 400 minute period is sampled at 30-minute intervals. The analysis of these data allow us to determine which components of complex traits (neurons, interneurons, muscle) emerge first and which emerge later."
   ]
  },
  {
   "cell_type": "markdown",
   "metadata": {},
   "source": [
    "![](http://devoworm.weebly.com/uploads/2/2/2/0/22209308/interneurons-hypodermal-graph-mod-axis_orig.png)"
   ]
  },
  {
   "cell_type": "markdown",
   "metadata": {},
   "source": [
    "![](http://devoworm.weebly.com/uploads/2/2/2/0/22209308/interneurons-neurons-histogram_orig.png)"
   ]
  },
  {
   "cell_type": "markdown",
   "metadata": {},
   "source": [
    "Histograms showing the emergence of terminally-differentiated interneurons, hypodermal cells, and neurons in developmental time. Interneuronal counts are referenced to the color blue. Data show that hypodermal cells terminally differentiate earlier (in general) than interneuronal and neuronal cells (which, in general, terminally differentiate at around the same time). One exception to this is a small group of neurons that terminally differentiate before most other neurons."
   ]
  },
  {
   "cell_type": "markdown",
   "metadata": {},
   "source": [
    "![](http://devoworm.weebly.com/uploads/2/2/2/0/22209308/syncytium-vs-muscle_1_orig.png)"
   ]
  },
  {
   "cell_type": "markdown",
   "metadata": {},
   "source": [
    "![](http://devoworm.weebly.com/uploads/2/2/2/0/22209308/syncytium-vs-neuron_orig.png)"
   ]
  },
  {
   "cell_type": "markdown",
   "metadata": {},
   "source": [
    "Histograms showing the emergence of terminally-differentiated syncytium, muscle, and neurons in developmental time. Syncytium counts are referenced to the color red. Data show that syncytium terminally differentiate earlier (in general) than muscle and neuronal cells (which, in general, terminally differentiate at around the same time). One exception to this is a small group of neurons that terminally differentiate before most other neurons. \n",
    "\n",
    "A heat map for the entire dataset can be found on [Figshare, doi:10.6084/m9.figshare.3791970.v3](https://dx.doi.org/10.6084/m9.figshare.3791970.v3). \n",
    "\n",
    "The horizontal axis of each heat map represents developmental time, while the vertical axis of each heat map represents cells of various terminal fates organized alphabetically. The bottom of each figure is labeled with the corresponding developmental stages and images of the embryo during select times."
   ]
  },
  {
   "cell_type": "markdown",
   "metadata": {},
   "source": [
    "![](http://devoworm.weebly.com/uploads/2/2/2/0/22209308/interneuron-vs-hypodermal_orig.png)"
   ]
  },
  {
   "cell_type": "markdown",
   "metadata": {},
   "source": [
    "Comparison for Interneuron (top) and Hypodermal (bottom) cells. Time before terminal-differentiation is represented by a black background."
   ]
  },
  {
   "cell_type": "markdown",
   "metadata": {},
   "source": [
    "![](http://devoworm.weebly.com/uploads/2/2/2/0/22209308/interneuron-vs-neuron_2_orig.png)"
   ]
  },
  {
   "cell_type": "markdown",
   "metadata": {},
   "source": [
    "Comparison for Interneuron (top) and Neuron (bottom) cells. Time before terminal-differentiation is represented by a black background."
   ]
  },
  {
   "cell_type": "markdown",
   "metadata": {},
   "source": [
    "![](http://devoworm.weebly.com/uploads/2/2/2/0/22209308/syncytium-vs-muscle_2_orig.png)"
   ]
  },
  {
   "cell_type": "markdown",
   "metadata": {},
   "source": [
    "Comparison for Syncytium (top) and Muscle (bottom) cells. Time before terminal-differentiation is represented by a black background."
   ]
  },
  {
   "cell_type": "markdown",
   "metadata": {},
   "source": [
    "![](http://devoworm.weebly.com/uploads/2/2/2/0/22209308/syncytium-vs-neuron_1_orig.png)"
   ]
  },
  {
   "cell_type": "markdown",
   "metadata": {},
   "source": [
    "Comparison for Syncytium (top) and Neuron (bottom) cells. Time before terminal-differentiation is represented by a black background."
   ]
  },
  {
   "cell_type": "markdown",
   "metadata": {
    "collapsed": true
   },
   "source": [
    "## Differentiation time-series in the third instar imaginal disc of *Drosophila*"
   ]
  },
  {
   "cell_type": "markdown",
   "metadata": {},
   "source": [
    "We segmented and analyzed an hand drawn image of the third instar imaginal disc of Drosophila melanogaster.The image was drawn by [Dr. Tanya Wolff](https://www.janelia.org/people/tanya-wolff), and digitized and retouched by Diana Gordon and [Dr. Richard Gordon](https://scholar.google.com/citations?user=LnaynB0AAAAJ&hl=en). Segmentation of the original image in ImageJ revealed 9,744 centroids with corresponding areas (cells)."
   ]
  },
  {
   "cell_type": "markdown",
   "metadata": {},
   "source": [
    "![](http://devoworm.weebly.com/uploads/2/2/2/0/22209308/1508574_orig.png)"
   ]
  },
  {
   "cell_type": "markdown",
   "metadata": {},
   "source": [
    "The original image can be reconstructed as a series of points. The image shows a pre-furrow region, a furrow and a post-furrow region. The furrow represents the mass of a differentiation wave moving across the tissue. Thus, a time-series can be constructed from the original image by windowing groups of cells along the x-axis from left to right."
   ]
  },
  {
   "cell_type": "code",
   "execution_count": null,
   "metadata": {
    "collapsed": true
   },
   "outputs": [],
   "source": []
  }
 ],
 "metadata": {
  "kernelspec": {
   "display_name": "Python [conda root]",
   "language": "python",
   "name": "conda-root-py"
  },
  "language_info": {
   "codemirror_mode": {
    "name": "ipython",
    "version": 3
   },
   "file_extension": ".py",
   "mimetype": "text/x-python",
   "name": "python",
   "nbconvert_exporter": "python",
   "pygments_lexer": "ipython3",
   "version": "3.5.2"
  }
 },
 "nbformat": 4,
 "nbformat_minor": 1
}
