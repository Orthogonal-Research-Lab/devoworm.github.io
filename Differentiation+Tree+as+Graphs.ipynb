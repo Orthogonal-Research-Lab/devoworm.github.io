{
 "cells": [
  {
   "cell_type": "markdown",
   "metadata": {},
   "source": [
    "## Differentiation Trees as Binary Graphs\n",
    "\n",
    "### Data from Lineage Tree and Positional Information Secondary Datasets:\n",
    "Alicea, B. and Gordon, R. *C. elegans* Embryonic Differentiation Tree (10 division events). Figshare, [doi:10.6084/m9.figshare.2118049](https://figshare.com/articles/C_elegans_Embryonic_Differentiation_Tree_10_division_events_/2118049).\n",
    "\n",
    "Alicea, B. and Gordon, R. *C. intestinalis* Embryonic Differentiation Tree (1- to 112-cell stage). Figshare, [doi:10.6084/m9.figshare.2117152](https://figshare.com/articles/C_intestinalis_Embryonic_Differentiation_Tree_1_to_112_cell_stage_/2117152)."
   ]
  },
  {
   "cell_type": "markdown",
   "metadata": {},
   "source": [
    "![](http://devoworm.weebly.com/uploads/2/2/2/0/22209308/4059749_orig.png)"
   ]
  },
  {
   "cell_type": "markdown",
   "metadata": {},
   "source": [
    "8-cell differentiation tree in two dimensions of C. elegans embryo space. LEFT: lineage tree, RIGHT: bivariate graph with orientation of differentiation waves."
   ]
  },
  {
   "cell_type": "markdown",
   "metadata": {},
   "source": [
    "![](http://devoworm.weebly.com/uploads/2/2/2/0/22209308/5125129_orig.png)"
   ]
  },
  {
   "cell_type": "markdown",
   "metadata": {},
   "source": [
    "Unfolding differentiation trees in two dimensions of C. elegans embryo space, 16-cell differentiation tree with differentiation wave orientation and timing information"
   ]
  },
  {
   "cell_type": "markdown",
   "metadata": {},
   "source": [
    "![](http://devoworm.weebly.com/uploads/2/2/2/0/22209308/7366898_orig.png)"
   ]
  },
  {
   "cell_type": "markdown",
   "metadata": {},
   "source": [
    "Unfolding differentiation trees in two dimensions of C. elegans embryo space, 64-cell differentiation tree with orientation of differentiation waves."
   ]
  },
  {
   "cell_type": "markdown",
   "metadata": {
    "collapsed": true
   },
   "source": [
    "### Angle of Differentiation for cells in C. elegans Embryo"
   ]
  },
  {
   "cell_type": "markdown",
   "metadata": {},
   "source": [
    "Data from [Lineage Tree and Positional Information](http://devoworm.weebly.com/software-and-data.html) secondary datasets and [\"Complete cell lineage of *C. elegans*\"](https://commons.wikimedia.org/wiki/File:Complete_cell_lineage_of_C_elegans.png), Wikimedia Commons."
   ]
  },
  {
   "cell_type": "markdown",
   "metadata": {},
   "source": [
    "![](http://devoworm.weebly.com/uploads/2/2/2/0/22209308/angle-of-differentiation-c-elegans-embryo_orig.png)"
   ]
  },
  {
   "cell_type": "markdown",
   "metadata": {},
   "source": [
    "Graphs show angle of differentiation for five sublineages of the C. elegans lineage tree for all non-terminally differentiated or germ line cells in the pre-hatch embryo (n = 571). Angle is taken between mother cell and daughter cell using a baseline (0 degrees) orthogonal to the axis of division. If differentiation produces daughter cells along the anterior-posterior axis (e.g. a differentiation event which produces daughters ABala and ABalp), then the baseline is either to the left or right, depending on which side of the midline the daughter cells end up."
   ]
  },
  {
   "cell_type": "code",
   "execution_count": null,
   "metadata": {
    "collapsed": true
   },
   "outputs": [],
   "source": []
  }
 ],
 "metadata": {
  "anaconda-cloud": {},
  "kernelspec": {
   "display_name": "Python [conda root]",
   "language": "python",
   "name": "conda-root-py"
  },
  "language_info": {
   "codemirror_mode": {
    "name": "ipython",
    "version": 3
   },
   "file_extension": ".py",
   "mimetype": "text/x-python",
   "name": "python",
   "nbconvert_exporter": "python",
   "pygments_lexer": "ipython3",
   "version": "3.5.2"
  }
 },
 "nbformat": 4,
 "nbformat_minor": 1
}
