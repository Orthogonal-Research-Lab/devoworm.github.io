{
 "cells": [
  {
   "cell_type": "markdown",
   "metadata": {},
   "source": [
    "## Embryo Space, *C. elegans*\n",
    "\n",
    "### Data from Lineage Tree and Positional Information secondary datasets"
   ]
  },
  {
   "cell_type": "markdown",
   "metadata": {},
   "source": [
    "![](http://devoworm.weebly.com/uploads/2/2/2/0/22209308/6300631.png?753)"
   ]
  },
  {
   "cell_type": "markdown",
   "metadata": {},
   "source": [
    "10,000 points (cell nuclei) from 361 embryos. Auxiliary graphs next to each axis represents the distribution of cells in space, empirical histogram (blue) compared to normal distribution (red)."
   ]
  },
  {
   "cell_type": "markdown",
   "metadata": {},
   "source": [
    "![](http://devoworm.weebly.com/uploads/2/2/2/0/22209308/9363398.png?753)"
   ]
  },
  {
   "cell_type": "markdown",
   "metadata": {},
   "source": [
    "21,408 points (cell nuclei) from 361 embryos. Auxiliary graphs next to each axis represents the mean position of all cells along a given axis across 96 temporal sampling windows (beginning at P0)."
   ]
  },
  {
   "cell_type": "markdown",
   "metadata": {},
   "source": [
    "![](http://devoworm.weebly.com/uploads/2/2/2/0/22209308/4311508_orig.gif)"
   ]
  },
  {
   "cell_type": "markdown",
   "metadata": {},
   "source": [
    "Animation of early stages in the emergence of the embryo space, from an embryo space containing 1000 cells to an embryo space containing 3000 cells. The patchiness of the 1000 cell space fills in as cells divide (moving to new 3-D locations) and become smaller as developmental time progresses. The initial patchiness is due to the same cells in multiple embryos -- in the aggregate (an unaveraged combined dataset), each named cell will have multiple positions."
   ]
  },
  {
   "cell_type": "code",
   "execution_count": null,
   "metadata": {
    "collapsed": true
   },
   "outputs": [],
   "source": []
  }
 ],
 "metadata": {
  "kernelspec": {
   "display_name": "Python [conda root]",
   "language": "python",
   "name": "conda-root-py"
  },
  "language_info": {
   "codemirror_mode": {
    "name": "ipython",
    "version": 3
   },
   "file_extension": ".py",
   "mimetype": "text/x-python",
   "name": "python",
   "nbconvert_exporter": "python",
   "pygments_lexer": "ipython3",
   "version": "3.5.2"
  }
 },
 "nbformat": 4,
 "nbformat_minor": 1
}
