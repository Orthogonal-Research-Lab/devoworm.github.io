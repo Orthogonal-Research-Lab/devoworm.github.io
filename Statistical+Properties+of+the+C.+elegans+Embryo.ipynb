{
 "cells": [
  {
   "cell_type": "markdown",
   "metadata": {},
   "source": [
    "## Data Transformation"
   ]
  },
  {
   "cell_type": "markdown",
   "metadata": {},
   "source": [
    "To generate this analysis, we used the data from [Murray et.al (2012)](http://devoworm.weebly.com/software-and-data.html), and extracted 361 imaged embryos. Each individual embryo included data for the position of nuclei generated for all cells over a certain number of discrete time points during embryogenesis. \n",
    "\n",
    "The first step is to find the minimum and maximum times for all time stamps in the dataset, and then create a list of all timepoints and their frequency. The timepoints can then be mapped to the cell identities, which allows us to find division times and intervals between division times. \n",
    "\n",
    "Below are a series of diagrams that show how the data was manipulated to get to different steps in the analysis."
   ]
  },
  {
   "cell_type": "markdown",
   "metadata": {
    "collapsed": true
   },
   "source": [
    "**Q:** For how many timepoints did a given cell (identity) exist? To do this, we derive matrices A and B. A is an averaged count (the average length of time across all embryos, _n_ = 361), and B is a first-order time derivative of A. "
   ]
  },
  {
   "cell_type": "markdown",
   "metadata": {
    "collapsed": true
   },
   "source": [
    "![](http://devoworm.weebly.com/uploads/2/2/2/0/22209308/images-for-jupyter-notebook_3_orig.png)"
   ]
  },
  {
   "cell_type": "markdown",
   "metadata": {
    "collapsed": true
   },
   "source": [
    "In the next three transformations, we find the intervals between divisions, and whether or not these divisions result in two daughter cells or a single cell. In matrix C, the counts reveal the count for replicate embryos present at a specific timepoint. A \"symmetric\" division would create two additional cells, while an \"asymmetric\" division would create a single additional cell. For example, an increase from \"4\" to \"6\" in the count for a particular column (embryo) at timepoint \"4\" means that a symmetric division occured between timepoint 3 and 4. \n",
    "\n",
    "Matrices D and E represent transformations of the information in matrix C. Matrix D is a means to sum all occurences of division at a single timepoint, while E is a binary transformation of the original matrix C. The difference between each matrix: D allows is to make a count for each for each i, how many times one and two cell daughters were generated during a single timepoint. E allows for us to identify events that represent cell division in a lineage as a binary (yes/no) version of C. "
   ]
  },
  {
   "cell_type": "markdown",
   "metadata": {},
   "source": [
    "![](http://devoworm.weebly.com/uploads/2/2/2/0/22209308/c-d-e_1_orig.png)"
   ]
  },
  {
   "cell_type": "markdown",
   "metadata": {},
   "source": [
    "Matrices F and G allow us to transform Matrix E in two ways. Matrix F replaces the ones in Matrix E with a numeric identity for the timepoint at which each division event occurred. For example, the temporal sequence \"0,0,0,0,1,0,0,1,0,0,0,0,1\" would be replaced with \"0,0,0,0,5,0,0,8,0,0,0,0,13\". Matrix G would simply be an ordinal sorting of each column which removes the interval zeros. For example, \"0,0,0,0,5,0,0,8,0,0,0,0,13\" would be \"5,8,13\"."
   ]
  },
  {
   "cell_type": "markdown",
   "metadata": {},
   "source": [
    "![](http://devoworm.weebly.com/uploads/2/2/2/0/22209308/f-g_orig.png)"
   ]
  },
  {
   "cell_type": "markdown",
   "metadata": {},
   "source": [
    "Matrix H is a difference matrix derived from Matrix G, and reveals the time interval between division events within each column. For example, the value of ||H<sub>i,j</sub>|| is the interval between *j* and *j*+1. Where *j* is 9 and *j*+1 is 17, ||H<sub>i,j</sub>|| would equal 8."
   ]
  },
  {
   "cell_type": "markdown",
   "metadata": {},
   "source": [
    "![](http://devoworm.weebly.com/uploads/2/2/2/0/22209308/h_orig.png)"
   ]
  },
  {
   "cell_type": "markdown",
   "metadata": {},
   "source": [
    "## Data Analysis"
   ]
  },
  {
   "cell_type": "markdown",
   "metadata": {},
   "source": [
    "In this plot, a [CDF](https://en.wikipedia.org/wiki/Cumulative_distribution_function)-like plot is produced for all division events over time. This is compared to a linear model, which smooths the data with respect to the mean value for each timepoint. There are deviations from the linear model at 0-10 points (below mean), around 30 points (above mean), and around 85 points (below mean). There is also drift away from (above mean) the linear trend after 100 time points."
   ]
  },
  {
   "cell_type": "markdown",
   "metadata": {},
   "source": [
    "![](http://devoworm.weebly.com/uploads/2/2/2/0/22209308/cumulative-number-division-events-time_orig.png)"
   ]
  },
  {
   "cell_type": "markdown",
   "metadata": {},
   "source": [
    "The linear model was produced in MATLAB using the following pseudo-code (insert your own specifics):\n",
    "    \n",
    "    A = [data];\n",
    "    B = [data];\n",
    "    M = linearModel.fit(A,B);  \n",
    "    //creates struct from bivariate relationship\n",
    "    N = M.Fitted;  \n",
    "    //extract relevant vector from struct\n",
    "    plot(A,B,A,N)"
   ]
  },
  {
   "cell_type": "markdown",
   "metadata": {},
   "source": [
    "![](http://devoworm.weebly.com/uploads/2/2/2/0/22209308/time-interval-divisions-occur_orig.png)"
   ]
  },
  {
   "cell_type": "markdown",
   "metadata": {},
   "source": [
    "In this histogram, the frequency of new cells at a given time interval is plotted as a function of time. Time intervals are arbitrary units that loosely correspond to subdivisions of developmental time (minutes). The baseline time interval (0) is equivalent to the P0 stage of development, and is the earliest point at which data was recorded. Using our methodology, the entirely of pre-hatch development (embryogenesis) was 350 time intervals long. \n",
    "\n",
    "There is a gap around the 100 and 200 time unit intervals, which may be an artifact of the method to estimate time intervals, or may be an artifact of the data aggregation procedure. The bulk of divisions take place from 100 to 200 time intervals, which corresponds to cell lineage data (for a single lineage tree) from 240 to 350 minutes of developmental time."
   ]
  },
  {
   "cell_type": "markdown",
   "metadata": {},
   "source": [
    "![](http://devoworm.weebly.com/uploads/2/2/2/0/22209308/first-derivative-time-interval-divisions_orig.png)"
   ]
  },
  {
   "cell_type": "markdown",
   "metadata": {},
   "source": [
    "In this histogram, we examine the [inverse distribution](https://en.wikipedia.org/wiki/Inverse_distribution) of the time interval between divisions in a cell lineage, which is a derivative of the time interval for division. There is a long tail with respect to this interval. As a vast majority of divisions occur within 3 time units, there are rare events which lead to intervals up to 10x this length. This suggests that lineage trees could have an unappreciated [scale-free](https://en.wikipedia.org/wiki/Scale-free_network) aspect to the generative yet deterministic unfolding across individuals."
   ]
  }
 ],
 "metadata": {
  "anaconda-cloud": {},
  "kernelspec": {
   "display_name": "Python [conda root]",
   "language": "python",
   "name": "conda-root-py"
  },
  "language_info": {
   "codemirror_mode": {
    "name": "ipython",
    "version": 3
   },
   "file_extension": ".py",
   "mimetype": "text/x-python",
   "name": "python",
   "nbconvert_exporter": "python",
   "pygments_lexer": "ipython3",
   "version": "3.5.2"
  }
 },
 "nbformat": 4,
 "nbformat_minor": 1
}
